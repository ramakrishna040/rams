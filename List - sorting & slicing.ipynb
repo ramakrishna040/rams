{
 "cells": [
  {
   "cell_type": "code",
   "execution_count": null,
   "id": "538f7006",
   "metadata": {},
   "outputs": [],
   "source": [
    "Organising the list datatype"
   ]
  },
  {
   "cell_type": "code",
   "execution_count": 2,
   "id": "a1d2586b",
   "metadata": {},
   "outputs": [],
   "source": [
    "cars = ['benz','bmw','honda','toyota']"
   ]
  },
  {
   "cell_type": "code",
   "execution_count": 3,
   "id": "ed54b3d7",
   "metadata": {},
   "outputs": [
    {
     "name": "stdout",
     "output_type": "stream",
     "text": [
      "['benz', 'bmw', 'honda', 'toyota']\n"
     ]
    }
   ],
   "source": [
    "print(cars)"
   ]
  },
  {
   "cell_type": "code",
   "execution_count": 4,
   "id": "90081576",
   "metadata": {},
   "outputs": [
    {
     "data": {
      "text/plain": [
       "list"
      ]
     },
     "execution_count": 4,
     "metadata": {},
     "output_type": "execute_result"
    }
   ],
   "source": [
    "type(cars)"
   ]
  },
  {
   "cell_type": "code",
   "execution_count": null,
   "id": "0bbf7341",
   "metadata": {},
   "outputs": [],
   "source": [
    "# req: i want to get the above list data in alphabetical order"
   ]
  },
  {
   "cell_type": "code",
   "execution_count": null,
   "id": "d9cff670",
   "metadata": {},
   "outputs": [],
   "source": [
    "1. temp approach --- sorted method ==> we can retain the original order.\n",
    "2. permanent aproach -- sort method ==> changes are applied permanently."
   ]
  },
  {
   "cell_type": "code",
   "execution_count": 5,
   "id": "cbcdbbb2",
   "metadata": {},
   "outputs": [
    {
     "name": "stdout",
     "output_type": "stream",
     "text": [
      "['benz', 'bmw', 'honda', 'toyota']\n"
     ]
    }
   ],
   "source": [
    "print(sorted(cars))"
   ]
  },
  {
   "cell_type": "code",
   "execution_count": 7,
   "id": "b65e8abd",
   "metadata": {},
   "outputs": [],
   "source": [
    "cars.sort()"
   ]
  },
  {
   "cell_type": "code",
   "execution_count": 9,
   "id": "1d27c19e",
   "metadata": {},
   "outputs": [
    {
     "name": "stdout",
     "output_type": "stream",
     "text": [
      "['benz', 'bmw', 'honda', 'toyota']\n"
     ]
    }
   ],
   "source": [
    "print(cars)"
   ]
  },
  {
   "cell_type": "code",
   "execution_count": null,
   "id": "f33cfae4",
   "metadata": {},
   "outputs": [],
   "source": [
    "## What is the diff between sort and sorted methods"
   ]
  },
  {
   "cell_type": "code",
   "execution_count": null,
   "id": "2e4d093c",
   "metadata": {},
   "outputs": [],
   "source": []
  },
  {
   "cell_type": "code",
   "execution_count": null,
   "id": "d35c7107",
   "metadata": {},
   "outputs": [],
   "source": [
    "## reverse order"
   ]
  },
  {
   "cell_type": "code",
   "execution_count": 10,
   "id": "cfa5ba89",
   "metadata": {},
   "outputs": [],
   "source": [
    "cars.reverse()"
   ]
  },
  {
   "cell_type": "code",
   "execution_count": 11,
   "id": "14d9c0bd",
   "metadata": {},
   "outputs": [
    {
     "name": "stdout",
     "output_type": "stream",
     "text": [
      "['toyota', 'honda', 'bmw', 'benz']\n"
     ]
    }
   ],
   "source": [
    "print(cars)"
   ]
  },
  {
   "cell_type": "code",
   "execution_count": null,
   "id": "49a16677",
   "metadata": {},
   "outputs": [],
   "source": []
  },
  {
   "cell_type": "code",
   "execution_count": null,
   "id": "313c4e12",
   "metadata": {},
   "outputs": [],
   "source": [
    "#count of elements in the list"
   ]
  },
  {
   "cell_type": "code",
   "execution_count": 12,
   "id": "c02c0f56",
   "metadata": {},
   "outputs": [
    {
     "data": {
      "text/plain": [
       "4"
      ]
     },
     "execution_count": 12,
     "metadata": {},
     "output_type": "execute_result"
    }
   ],
   "source": [
    "len(cars)"
   ]
  },
  {
   "cell_type": "code",
   "execution_count": null,
   "id": "6e3955cf",
   "metadata": {},
   "outputs": [],
   "source": []
  },
  {
   "cell_type": "code",
   "execution_count": null,
   "id": "ddd3f28a",
   "metadata": {},
   "outputs": [],
   "source": [
    "## SLICING OF LIST"
   ]
  },
  {
   "cell_type": "code",
   "execution_count": 14,
   "id": "930c6ef1",
   "metadata": {},
   "outputs": [],
   "source": [
    "students = ['kiran','karan','prasad','eshwar','manish','tanveer','kiran']"
   ]
  },
  {
   "cell_type": "code",
   "execution_count": 15,
   "id": "3ecee70c",
   "metadata": {},
   "outputs": [
    {
     "name": "stdout",
     "output_type": "stream",
     "text": [
      "['kiran', 'karan', 'prasad', 'eshwar', 'manish', 'tanveer', 'kiran']\n"
     ]
    }
   ],
   "source": [
    "print(students)"
   ]
  },
  {
   "cell_type": "code",
   "execution_count": null,
   "id": "d86dc5d9",
   "metadata": {},
   "outputs": [],
   "source": [
    "#syntax of slicing: "
   ]
  },
  {
   "cell_type": "code",
   "execution_count": null,
   "id": "ea08bdd6",
   "metadata": {},
   "outputs": [],
   "source": [
    "[startvalue:stopvalue:stepcount]"
   ]
  },
  {
   "cell_type": "code",
   "execution_count": null,
   "id": "961bbef0",
   "metadata": {},
   "outputs": [],
   "source": [
    "Note: Stop value is always exclusive and will not be considered in the slice\n",
    "    to include the stop value, increment the index by +1\n",
    "    "
   ]
  },
  {
   "cell_type": "code",
   "execution_count": 17,
   "id": "f24ca04e",
   "metadata": {},
   "outputs": [
    {
     "name": "stdout",
     "output_type": "stream",
     "text": [
      "['kiran', 'karan', 'prasad', 'eshwar']\n"
     ]
    }
   ],
   "source": [
    "print(students[0:4])"
   ]
  },
  {
   "cell_type": "code",
   "execution_count": 18,
   "id": "c3c81d83",
   "metadata": {},
   "outputs": [
    {
     "name": "stdout",
     "output_type": "stream",
     "text": [
      "['prasad', 'eshwar']\n"
     ]
    }
   ],
   "source": [
    "print(students[2:4])"
   ]
  },
  {
   "cell_type": "code",
   "execution_count": 19,
   "id": "0b2c8a93",
   "metadata": {},
   "outputs": [
    {
     "name": "stdout",
     "output_type": "stream",
     "text": [
      "['kiran', 'prasad', 'manish', 'kiran']\n"
     ]
    }
   ],
   "source": [
    "print(students[0:8:2])"
   ]
  },
  {
   "cell_type": "code",
   "execution_count": null,
   "id": "523448ac",
   "metadata": {},
   "outputs": [],
   "source": []
  },
  {
   "cell_type": "code",
   "execution_count": null,
   "id": "5629c9b0",
   "metadata": {},
   "outputs": [],
   "source": []
  }
 ],
 "metadata": {
  "kernelspec": {
   "display_name": "Python 3 (ipykernel)",
   "language": "python",
   "name": "python3"
  },
  "language_info": {
   "codemirror_mode": {
    "name": "ipython",
    "version": 3
   },
   "file_extension": ".py",
   "mimetype": "text/x-python",
   "name": "python",
   "nbconvert_exporter": "python",
   "pygments_lexer": "ipython3",
   "version": "3.9.7"
  }
 },
 "nbformat": 4,
 "nbformat_minor": 5
}
